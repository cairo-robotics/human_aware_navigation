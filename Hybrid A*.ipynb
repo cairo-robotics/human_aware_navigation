{
 "cells": [
  {
   "cell_type": "code",
   "execution_count": null,
   "metadata": {},
   "outputs": [],
   "source": [
    "#using POMDPs\n",
    "using Plots\n",
    "using DifferentialEquations\n",
    "using DataStructures"
   ]
  },
  {
   "cell_type": "code",
   "execution_count": null,
   "metadata": {},
   "outputs": [],
   "source": [
    "#Global Variables\n",
    "plot_size = 800; #number of pixels\n",
    "cart_size = 1; # radius in meters"
   ]
  },
  {
   "cell_type": "code",
   "execution_count": null,
   "metadata": {},
   "outputs": [],
   "source": [
    "struct goal_location\n",
    "    x::Float64\n",
    "    y::Float64\n",
    "    id::Float64\n",
    "end\n",
    "\n",
    "mutable struct human_state\n",
    "    x::Float64\n",
    "    y::Float64\n",
    "    v::Float64\n",
    "    goal::goal_location\n",
    "end\n",
    "\n",
    "struct obstacle_location\n",
    "    x::Float64\n",
    "    y::Float64\n",
    "    r::Float64 #Radius of the obstacle which is assumed to be a circle\n",
    "end\n",
    "\n",
    "mutable struct cart_state\n",
    "    x::Float64\n",
    "    y::Float64\n",
    "    theta::Float64\n",
    "    v::Float64\n",
    "    L::Float64\n",
    "    goal::goal_location\n",
    "end"
   ]
  },
  {
   "cell_type": "code",
   "execution_count": null,
   "metadata": {},
   "outputs": [],
   "source": [
    "mutable struct experiment_environment \n",
    "    length::Float64\n",
    "    breadth::Float64\n",
    "    num_humans::Float64\n",
    "    goals::Array{goal_location}\n",
    "    humans::Array{human_state}\n",
    "    obstacles::Array{obstacle_location}\n",
    "    cart::cart_state\n",
    "end"
   ]
  },
  {
   "cell_type": "code",
   "execution_count": null,
   "metadata": {},
   "outputs": [],
   "source": [
    "function Base.show(io::IO, mime::MIME, env::experiment_environment)\n",
    "    \n",
    "    #Plot Boundaries\n",
    "    p = plot([0.0],[0.0],legend=false,grid=false)\n",
    "    plot!([env.length], [env.breadth],legend=false)\n",
    "    \n",
    "    #Plot Humans\n",
    "    for i in 1: length(env.humans)\n",
    "        scatter!([env.humans[i].x], [env.humans[i].y],color=\"red\",msize=plot_size/env.length)\n",
    "    end\n",
    "    \n",
    "    #Plot Obstacles\n",
    "    for i in 1: length(env.obstacles)\n",
    "        scatter!([env.obstacles[i].x], [env.obstacles[i].y],color=\"black\",shape=:circle,msize=plot_size*env.obstacles[i].r/env.length)\n",
    "    end\n",
    "    \n",
    "    #Plot Golfcart\n",
    "    scatter!([env.cart.x], [env.cart.y], shape=:sq, color=\"blue\", msize= plot_size*cart_size/env.length)\n",
    "    \n",
    "    plot!(size=(plot_size,plot_size))\n",
    "    show(io, mime, p)\n",
    "end"
   ]
  },
  {
   "cell_type": "code",
   "execution_count": null,
   "metadata": {},
   "outputs": [],
   "source": [
    "g1 = goal_location(0,0,1)\n",
    "g2 = goal_location(0,100,2)\n",
    "g3 = goal_location(0,30,3)\n",
    "g4 = goal_location(14,1,4)\n",
    "cart_goal = goal_location(100,50,5)\n",
    "all_goals_list = [g1,g2,g3,g4]\n",
    "\n",
    "h1 = human_state(40,30,0.5,g3)\n",
    "h2 = human_state(3,22,0.5,g4)\n",
    "h3 = human_state(71,22,0.5,g2)\n",
    "h4 = human_state(12,84,0.5,g1)\n",
    "human_state_start_list = [h1,h2,h3,h4]\n",
    "\n",
    "o1 = obstacle_location(50,50,3)\n",
    "o2 = obstacle_location(33,69,5)\n",
    "o3 = obstacle_location(73,79,3)\n",
    "all_obstacle_list = [o1,o2,o3]\n",
    "\n",
    "golfcart = cart_state(0,50,0,1,1,cart_goal)\n"
   ]
  },
  {
   "cell_type": "code",
   "execution_count": null,
   "metadata": {},
   "outputs": [],
   "source": [
    "env = experiment_environment(100,100,4,all_goals_list,human_state_start_list,all_obstacle_list,golfcart)"
   ]
  },
  {
   "cell_type": "code",
   "execution_count": null,
   "metadata": {},
   "outputs": [],
   "source": [
    "#Integration\n",
    "\n",
    "function travel!(du,u,p,t)\n",
    "    x,y,theta = u\n",
    "    v,L,alpha = p \n",
    "    \n",
    "    du[1] = v*cos(theta)\n",
    "    du[2] = v*sin(theta)\n",
    "    du[3] = (v/L)*tan(alpha)\n",
    "end"
   ]
  },
  {
   "cell_type": "code",
   "execution_count": null,
   "metadata": {},
   "outputs": [],
   "source": [
    "x_init = 0.0;\n",
    "y_init = 50.0;\n",
    "theta_init = 0.0;\n",
    "cart_current_speed = 1.0\n",
    "cart_length = 1.0\n",
    "steering_angle = -pi/10\n",
    "\n",
    "initial_state = [x_init,y_init,theta_init]\n",
    "extra_parameters = [cart_current_speed, cart_length, steering_angle]\n",
    "time_interval = (0.0,1.0)"
   ]
  },
  {
   "cell_type": "code",
   "execution_count": null,
   "metadata": {},
   "outputs": [],
   "source": [
    "function get_intermediate_points(initial_state, time_interval, extra_parameters)\n",
    "    prob = ODEProblem(travel!,initial_state,time_interval,extra_parameters)\n",
    "    sol = solve(prob,saveat=0.1)\n",
    "    x = []\n",
    "    y = []\n",
    "    theta = []\n",
    "    \n",
    "    for i in 1:length(sol.u)\n",
    "        push!(x,sol.u[i][1])\n",
    "        push!(y,sol.u[i][2])\n",
    "        push!(theta,sol.u[i][3])\n",
    "    end\n",
    "    \n",
    "    return x,y,theta\n",
    "end"
   ]
  },
  {
   "cell_type": "code",
   "execution_count": null,
   "metadata": {},
   "outputs": [],
   "source": [
    "x,y,theta = get_intermediate_points(initial_state, time_interval, extra_parameters);"
   ]
  },
  {
   "cell_type": "code",
   "execution_count": null,
   "metadata": {},
   "outputs": [],
   "source": [
    "x"
   ]
  },
  {
   "cell_type": "code",
   "execution_count": null,
   "metadata": {},
   "outputs": [],
   "source": [
    "tan(atan(last(theta)))"
   ]
  },
  {
   "cell_type": "code",
   "execution_count": null,
   "metadata": {},
   "outputs": [],
   "source": [
    "atan(sin(last(theta)/2)*2/5)"
   ]
  },
  {
   "cell_type": "code",
   "execution_count": null,
   "metadata": {},
   "outputs": [],
   "source": [
    "# x_init = 0.0;\n",
    "# y_init = 50.0;\n",
    "# theta_init = 0.0;\n",
    "# cart_current_speed = 1.0\n",
    "# cart_length = 1.0\n",
    "# time_interval = (0.0,1.0)\n",
    "\n",
    "# initial_state = [x_init,y_init,theta_init]\n",
    "\n",
    "# lala_path = [10,20,30,40,50,60]\n",
    "\n",
    "# anim = @animate for i ∈ 1:length(lala_path)\n",
    "#         env.cart.x = lala_path[i]\n",
    "#         env.cart.y = lala_path[i]\n",
    "#         display(env);\n",
    "# end\n",
    "# gif(anim, \"anim_fps15.gif\", fps = 1)"
   ]
  },
  {
   "cell_type": "code",
   "execution_count": null,
   "metadata": {},
   "outputs": [],
   "source": [
    "# x_init = 0.0;\n",
    "# y_init = 50.0;\n",
    "# theta_init = 0.0;\n",
    "# cart_current_speed = 1.0\n",
    "# cart_length = 1.0\n",
    "# time_interval = (0.0,1.0)\n",
    "\n",
    "# initial_state = [x_init,y_init,theta_init]\n",
    "\n",
    "\n",
    "\n",
    "# anim = @animate for i ∈ 1:length(path_x)\n",
    "#     #@show(initial_state)\n",
    "#     env.cart.x = path_x[i]\n",
    "#     env.cart.y = path_y[i]\n",
    "#     display(env);\n",
    "# end\n",
    "# gif(anim, \"paths.gif\", fps = 1000)"
   ]
  },
  {
   "cell_type": "code",
   "execution_count": null,
   "metadata": {},
   "outputs": [],
   "source": [
    "q = PriorityQueue(Base.Order.Reverse);"
   ]
  },
  {
   "cell_type": "code",
   "execution_count": null,
   "metadata": {},
   "outputs": [],
   "source": [
    "pq[\"a\"] = 10; pq[\"b\"] = 15; pq[\"c\"] = 15; \n",
    "pq"
   ]
  },
  {
   "cell_type": "code",
   "execution_count": null,
   "metadata": {},
   "outputs": [],
   "source": [
    "peek(pq)"
   ]
  },
  {
   "cell_type": "code",
   "execution_count": null,
   "metadata": {},
   "outputs": [],
   "source": [
    "?PriorityQueue"
   ]
  },
  {
   "cell_type": "code",
   "execution_count": null,
   "metadata": {},
   "outputs": [],
   "source": [
    "length(pq)"
   ]
  },
  {
   "cell_type": "code",
   "execution_count": null,
   "metadata": {},
   "outputs": [],
   "source": [
    "mutable struct graph_node\n",
    "    x::Float64\n",
    "    y::Float64\n",
    "    theta::Float64\n",
    "    actual_cost::Float64\n",
    "    heuristic_cost::Float64\n",
    "    action_taken_to_reach_here::Float64\n",
    "    discrete_x::Float64\n",
    "    discrete_y::Float64\n",
    "    discrete_theta::Float64\n",
    "    parent::Any\n",
    "end\n",
    "\n",
    "null_graph_node = graph_node(-Inf,-Inf,-Inf,-Inf,-Inf,-Inf,-Inf,-Inf,-Inf,nothing)"
   ]
  },
  {
   "cell_type": "code",
   "execution_count": null,
   "metadata": {},
   "outputs": [],
   "source": [
    "function hybrid_a_star_search(start_x, start_y, start_theta, goal_x, goal_y, env)\n",
    "    \n",
    "    #Action Set\n",
    "    #set_of_steering_angles = [0,-15,15,-30,30]\n",
    "    set_of_steering_angles = [0,+pi/12,-pi/12,+pi/30,-pi/30]\n",
    "    #delta_t = 1 second\n",
    "    time_step = 1\n",
    "    #Radius of circle around goal = 1m\n",
    "    radius_around_goal_threshold = 1\n",
    "    #Obstacle collision threshold\n",
    "    obstacle_collision_threshold = 10\n",
    "    #Human collision threshold\n",
    "    human_collision_threshold = 10\n",
    "        \n",
    "    function is_goal(node, goal_x, goal_y, threshold)\n",
    "        euclidean_distance =  ( (node.x - goal_x)^2 + (node.y - goal_y)^2 )^ 0.5\n",
    "        if(euclidean_distance < threshold)\n",
    "            @show(node.x,node.y)\n",
    "            return true\n",
    "        else\n",
    "            return false\n",
    "        end\n",
    "    end\n",
    "    \n",
    "    function calculate_heuristic_cost(node_x, node_y, goal_x, goal_y)\n",
    "        euclidean_distance =  ( (node_x - goal_x)^2 + (node_y - goal_y)^2 )^ 0.5\n",
    "        return euclidean_distance\n",
    "    end\n",
    "    \n",
    "    function get_path(current_node)\n",
    "        steering_angle_controls_sequence = [] \n",
    "        while(current_node!= nothing)\n",
    "            push!(steering_angle_controls_sequence, current_node.action_taken_to_reach_here)\n",
    "            @show(current_node.x,current_node.y)\n",
    "            @show(\"*****************\")\n",
    "            current_node = current_node.parent\n",
    "        end\n",
    "        return reverse(steering_angle_controls_sequence)\n",
    "    end     \n",
    "    \n",
    "    function get_action_cost(environment, final_x, final_y, discrete_x, discrete_y, obs_thresold, hum_threshold, action)\n",
    "        total_cost = 0\n",
    "        \n",
    "        #Cost from obstacles\n",
    "        for obstacle in environment.obstacles\n",
    "            euclidean_distance = ( (final_x - obstacle.x)^2 + (final_y - obstacle.y)^2 )^ 0.5\n",
    "            if(euclidean_distance >= obstacle.r + 2)\n",
    "                continue\n",
    "            elseif(euclidean_distance <= obstacle.r)\n",
    "                total_cost = Inf\n",
    "            else\n",
    "                distance_between_cart_and_obstacle = euclidean_distance - obstacle.r\n",
    "                total_cost += obs_thresold* (2 - distance_between_cart_and_obstacle) \n",
    "            end\n",
    "        end\n",
    "        \n",
    "        #Cost from humans\n",
    "        for human in environment.humans\n",
    "            euclidean_distance = ( (final_x - human.x)^2 + (final_y - human.y)^2 )^ 0.5\n",
    "            if(euclidean_distance >= 1)\n",
    "                continue\n",
    "            else\n",
    "                total_cost += hum_threshold* (1 - euclidean_distance) \n",
    "            end\n",
    "        end\n",
    "        \n",
    "        #Cost from no change in steering angle \n",
    "#         if(action == 0)\n",
    "#            total_cost += -0.1 \n",
    "#         end\n",
    "        #Cost from Long Paths\n",
    "        total_cost += 1\n",
    "        \n",
    "        return total_cost\n",
    "        \n",
    "    end\n",
    "    \n",
    "    function get_discrete_state(environment, x, y, theta)\n",
    "        discretization_width = 0.6\n",
    "        discretization_width_theta = pi/18\n",
    "        max_num_bins_x = ceil(environment.length/discretization_width)\n",
    "        discrete_x = clamp(ceil(x/discretization_width),1,max_num_bins_x)\n",
    "        max_num_bins_y = ceil(environment.breadth/discretization_width)\n",
    "        discrete_y = clamp(ceil(y/discretization_width),1,max_num_bins_y)\n",
    "        max_num_bins_theta = ceil(2*pi/discretization_width_theta)\n",
    "        discrete_theta = clamp(ceil(theta/discretization_width_theta),1,max_num_bins_theta)\n",
    "        return discrete_x,discrete_y,discrete_theta \n",
    "    end\n",
    "    \n",
    "    open = PriorityQueue(Base.Order.Forward);\n",
    "    closed = Dict()\n",
    "    dict_of_nodes = Dict()\n",
    "    \n",
    "    start_node = graph_node(start_x, start_y, start_theta, 0, \n",
    "        calculate_heuristic_cost(start_x,start_y,goal_x,goal_y), 0, 0,0,0,nothing)\n",
    "    \n",
    "    node_key = \"x\"*string(start_node.discrete_x)*\"y\"*string(start_node.discrete_y)*\"theta\"*string(start_node.discrete_theta)\n",
    "    open[node_key] = start_node.actual_cost + start_node.heuristic_cost\n",
    "    dict_of_nodes[node_key] = start_node\n",
    "    \n",
    "    while(length(open) != 0)\n",
    "        current_node = dict_of_nodes[dequeue!(open)]\n",
    "        if(is_goal(current_node, goal_x, goal_y, radius_around_goal_threshold))\n",
    "            path = get_path(current_node)\n",
    "            return path\n",
    "        end\n",
    "        \n",
    "        node_key = \"x\"*string(current_node.discrete_x)*\"y\"*string(current_node.discrete_y)*\"theta\"*string(current_node.discrete_theta)\n",
    "        closed[node_key] = current_node\n",
    "        current_state = [current_node.x,current_node.y,current_node.theta]\n",
    "        \n",
    "        for steering_angle in set_of_steering_angles\n",
    "            extra_parameters = [1, env.cart.L, steering_angle]\n",
    "            time_interval = (0.0,time_step)\n",
    "            x,y,theta = get_intermediate_points(current_state, time_interval, extra_parameters)\n",
    "            final_x,final_y,final_theta = last(x), last(y), last(theta)\n",
    "            final_theta = final_theta%(2*pi)\n",
    "            discrete_x, discrete_y, discrete_theta = get_discrete_state(env,final_x,final_y,final_theta)\n",
    "            node_key = \"x\"*string(discrete_x)*\"y\"*string(discrete_y)*\"theta\"*string(discrete_theta)\n",
    "            if(haskey(closed,node_key))\n",
    "                continue\n",
    "            end\n",
    "            g = current_node.actual_cost + get_action_cost(env, final_x, final_y, discrete_x, discrete_y, obstacle_collision_threshold, human_collision_threshold, steering_angle)\n",
    "            h = calculate_heuristic_cost(final_x, final_y, goal_x, goal_y)\n",
    "            new_node = graph_node(final_x, final_y, final_theta, g, h, \n",
    "                steering_angle, discrete_x, discrete_y, discrete_theta, current_node)\n",
    "            \n",
    "#             if(is_goal(new_node, goal_x, goal_y, radius_around_goal_threshold))\n",
    "#                 path = get_path(current_node)\n",
    "#                 return path\n",
    "#             end\n",
    "            if(new_node.actual_cost == Inf)\n",
    "                closed[node_key] = new_node\n",
    "                continue\n",
    "            end\n",
    "            if(haskey(open,node_key))\n",
    "                if(dict_of_nodes[node_key].actual_cost > new_node.actual_cost)\n",
    "                    dict_of_nodes[node_key] = new_node\n",
    "                    open[node_key] = new_node.heuristic_cost + new_node.actual_cost\n",
    "                end\n",
    "            else\n",
    "                dict_of_nodes[node_key] = new_node\n",
    "                open[node_key] = new_node.heuristic_cost + new_node.actual_cost\n",
    "            end\n",
    "        end\n",
    "            \n",
    "    end\n",
    "    \n",
    "    return nothing\n",
    "    \n",
    "end"
   ]
  },
  {
   "cell_type": "code",
   "execution_count": null,
   "metadata": {},
   "outputs": [],
   "source": [
    "returned_path = hybrid_a_star_search(10, 100, 0, 10, 0, env)"
   ]
  },
  {
   "cell_type": "code",
   "execution_count": null,
   "metadata": {},
   "outputs": [],
   "source": [
    "length(returned_path)"
   ]
  },
  {
   "cell_type": "code",
   "execution_count": null,
   "metadata": {},
   "outputs": [],
   "source": [
    "x_init = 10.0;\n",
    "y_init = 100.0;\n",
    "theta_init = 0.0;\n",
    "cart_current_speed = 1.0\n",
    "cart_length = 1.0\n",
    "time_interval = (0.0,1.0)\n",
    "\n",
    "initial_state = [x_init,y_init,theta_init]\n",
    "path_x, path_y, path_theta = [x_init],[y_init],[theta_init]\n",
    "\n",
    "for steering_angle in returned_path\n",
    "    extra_parameters = [cart_current_speed, cart_length, steering_angle]\n",
    "    x,y,theta = get_intermediate_points(initial_state, time_interval, extra_parameters);\n",
    "    for i in 2:length(x)\n",
    "        push!(path_x,x[i])\n",
    "        push!(path_y,y[i])\n",
    "        push!(path_theta,theta[i])\n",
    "    end\n",
    "    initial_state = [last(x),last(y),last(theta)]\n",
    "end"
   ]
  },
  {
   "cell_type": "code",
   "execution_count": null,
   "metadata": {},
   "outputs": [],
   "source": [
    "anim = @animate for i ∈ 1:length(path_x)\n",
    "    env.cart.x = path_x[i]\n",
    "    env.cart.y = path_y[i]\n",
    "    display(env);\n",
    "end\n",
    "gif(anim, \"path.gif\", fps = 1000)"
   ]
  },
  {
   "cell_type": "code",
   "execution_count": null,
   "metadata": {},
   "outputs": [],
   "source": [
    "for i in 1:length(returned_path)\n",
    "    @show(returned_path[i])\n",
    "end"
   ]
  },
  {
   "cell_type": "code",
   "execution_count": null,
   "metadata": {},
   "outputs": [],
   "source": [
    "theta_initv = graph_node(1,1,1,0,0,10,1,1,10,)"
   ]
  },
  {
   "cell_type": "code",
   "execution_count": null,
   "metadata": {},
   "outputs": [],
   "source": [
    "struct nakli\n",
    "    x::Float64\n",
    "    y::Float64\n",
    "    theta::Float64\n",
    "    actual_cost::Float64\n",
    "    heuristic_cost::Float64\n",
    "    action_taken_to_reach_here::Float64\n",
    "    discrete_x::Float64\n",
    "    discrete_y::Float64\n",
    "    discrete_theta::Float64\n",
    "    parent::Any\n",
    "end"
   ]
  },
  {
   "cell_type": "code",
   "execution_count": null,
   "metadata": {},
   "outputs": [],
   "source": [
    "v = nakli(1,1,1,0,0,10,1,1,10,1)"
   ]
  },
  {
   "cell_type": "code",
   "execution_count": null,
   "metadata": {},
   "outputs": [],
   "source": [
    "pq[null_graph_node] = -100"
   ]
  },
  {
   "cell_type": "code",
   "execution_count": null,
   "metadata": {},
   "outputs": [],
   "source": [
    "pq"
   ]
  },
  {
   "cell_type": "code",
   "execution_count": null,
   "metadata": {},
   "outputs": [],
   "source": [
    "length(pq) != 0"
   ]
  },
  {
   "cell_type": "code",
   "execution_count": null,
   "metadata": {},
   "outputs": [],
   "source": [
    "xx = dequeue!(pq)"
   ]
  },
  {
   "cell_type": "code",
   "execution_count": null,
   "metadata": {},
   "outputs": [],
   "source": [
    "xx"
   ]
  },
  {
   "cell_type": "code",
   "execution_count": null,
   "metadata": {},
   "outputs": [],
   "source": [
    "7^2"
   ]
  },
  {
   "cell_type": "code",
   "execution_count": null,
   "metadata": {},
   "outputs": [],
   "source": [
    "\"c\" * string(4)"
   ]
  },
  {
   "cell_type": "code",
   "execution_count": null,
   "metadata": {},
   "outputs": [],
   "source": [
    "?hybrid_a_star_search"
   ]
  },
  {
   "cell_type": "code",
   "execution_count": null,
   "metadata": {},
   "outputs": [],
   "source": [
    "n1 = graph_node(-Inf,-Inf,-Inf,-Inf,-Inf,-Inf,-Inf,-Inf,-Inf,nothing)\n",
    "n2 = graph_node(-Inf,-Inf,-Inf,-Inf,-Inf,-Inf,-Inf,-Inf,-Inf,n1)\n"
   ]
  },
  {
   "cell_type": "code",
   "execution_count": null,
   "metadata": {},
   "outputs": [],
   "source": [
    "n2.parent.x = 5"
   ]
  },
  {
   "cell_type": "code",
   "execution_count": null,
   "metadata": {},
   "outputs": [],
   "source": [
    "n1"
   ]
  },
  {
   "cell_type": "code",
   "execution_count": null,
   "metadata": {},
   "outputs": [],
   "source": [
    "clamp(-1,1,3)"
   ]
  },
  {
   "cell_type": "code",
   "execution_count": null,
   "metadata": {},
   "outputs": [],
   "source": [
    "l = [1,2,3]"
   ]
  },
  {
   "cell_type": "code",
   "execution_count": null,
   "metadata": {},
   "outputs": [],
   "source": [
    "for i in l\n",
    "    if( i == 2)\n",
    "        continue\n",
    "    end\n",
    "    @show(i)\n",
    "end"
   ]
  },
  {
   "cell_type": "code",
   "execution_count": null,
   "metadata": {},
   "outputs": [],
   "source": [
    "x"
   ]
  },
  {
   "cell_type": "code",
   "execution_count": null,
   "metadata": {},
   "outputs": [],
   "source": [
    "for i in env.humans\n",
    "    @show i\n",
    "end"
   ]
  },
  {
   "cell_type": "code",
   "execution_count": null,
   "metadata": {},
   "outputs": [],
   "source": [
    "final_theta"
   ]
  },
  {
   "cell_type": "code",
   "execution_count": null,
   "metadata": {},
   "outputs": [],
   "source": [
    "c = Inf"
   ]
  },
  {
   "cell_type": "code",
   "execution_count": null,
   "metadata": {},
   "outputs": [],
   "source": [
    "c+=3"
   ]
  },
  {
   "cell_type": "code",
   "execution_count": null,
   "metadata": {},
   "outputs": [],
   "source": [
    "c"
   ]
  },
  {
   "cell_type": "code",
   "execution_count": null,
   "metadata": {},
   "outputs": [],
   "source": [
    "function lala(x,y,theta)\n",
    "    discretization_width = 0.6\n",
    "    discretization_width_theta = pi/18\n",
    "    max_num_bins_x = ceil(env.length/discretization_width)\n",
    "    discrete_x = clamp(ceil(x/discretization_width),1,max_num_bins_x)\n",
    "    max_num_bins_y = ceil(env.breadth/discretization_width)\n",
    "    discrete_y = clamp(ceil(y/discretization_width),1,max_num_bins_y)\n",
    "    max_num_bins_theta = ceil(2*pi/discretization_width_theta)\n",
    "    discrete_theta = clamp(ceil(theta/discretization_width_theta),1,max_num_bins_theta)\n",
    "    return discrete_x,discrete_y,discrete_theta\n",
    "end"
   ]
  },
  {
   "cell_type": "code",
   "execution_count": null,
   "metadata": {},
   "outputs": [],
   "source": [
    "lala(5,4,(pi/6)+0.1)"
   ]
  },
  {
   "cell_type": "code",
   "execution_count": null,
   "metadata": {},
   "outputs": [],
   "source": [
    "ceil(4/0.6)"
   ]
  },
  {
   "cell_type": "code",
   "execution_count": null,
   "metadata": {},
   "outputs": [],
   "source": [
    "ceil(100/ 0.6)"
   ]
  },
  {
   "cell_type": "code",
   "execution_count": null,
   "metadata": {},
   "outputs": [],
   "source": [
    "11%5"
   ]
  },
  {
   "cell_type": "code",
   "execution_count": null,
   "metadata": {},
   "outputs": [],
   "source": [
    "(-pi/2) % (2*pi)"
   ]
  },
  {
   "cell_type": "code",
   "execution_count": null,
   "metadata": {},
   "outputs": [],
   "source": [
    "pi/18"
   ]
  },
  {
   "cell_type": "code",
   "execution_count": null,
   "metadata": {},
   "outputs": [],
   "source": [
    "-5 % 6"
   ]
  },
  {
   "cell_type": "code",
   "execution_count": null,
   "metadata": {},
   "outputs": [],
   "source": [
    "env"
   ]
  },
  {
   "cell_type": "code",
   "execution_count": null,
   "metadata": {},
   "outputs": [],
   "source": [
    "returned_path[1:40]"
   ]
  },
  {
   "cell_type": "code",
   "execution_count": null,
   "metadata": {},
   "outputs": [],
   "source": [
    "path_x, path_y, path_z = [],[],[]"
   ]
  },
  {
   "cell_type": "code",
   "execution_count": null,
   "metadata": {},
   "outputs": [],
   "source": []
  }
 ],
 "metadata": {
  "@webio": {
   "lastCommId": null,
   "lastKernelId": null
  },
  "kernelspec": {
   "display_name": "Julia 1.3.1",
   "language": "julia",
   "name": "julia-1.3"
  },
  "language_info": {
   "file_extension": ".jl",
   "mimetype": "application/julia",
   "name": "julia",
   "version": "1.3.1"
  }
 },
 "nbformat": 4,
 "nbformat_minor": 2
}
