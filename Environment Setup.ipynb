{
 "cells": [
  {
   "cell_type": "code",
   "execution_count": 1,
   "metadata": {},
   "outputs": [],
   "source": [
    "#using POMDPs\n",
    "using Plots"
   ]
  },
  {
   "cell_type": "code",
   "execution_count": 157,
   "metadata": {},
   "outputs": [],
   "source": [
    "#Global Variables\n",
    "plot_size = 800; #number of pixels\n",
    "cart_size = 1; # radius in meters"
   ]
  },
  {
   "cell_type": "code",
   "execution_count": 158,
   "metadata": {},
   "outputs": [],
   "source": [
    "struct goal_location\n",
    "    x::Float64\n",
    "    y::Float64\n",
    "    id::Float64\n",
    "end\n",
    "\n",
    "mutable struct human_state\n",
    "    x::Float64\n",
    "    y::Float64\n",
    "    v::Float64\n",
    "    goal::goal_location\n",
    "end\n",
    "\n",
    "struct obstacle_location\n",
    "    x::Float64\n",
    "    y::Float64\n",
    "    r::Float64 #Radius of the obstacle which is assumed to be a circle\n",
    "end\n",
    "\n",
    "mutable struct cart_state\n",
    "    x::Float64\n",
    "    y::Float64\n",
    "    theta::Float64\n",
    "    v::Float64\n",
    "    goal::goal_location\n",
    "end"
   ]
  },
  {
   "cell_type": "code",
   "execution_count": 159,
   "metadata": {},
   "outputs": [],
   "source": [
    "mutable struct experiment_environment \n",
    "    length::Float64\n",
    "    breadth::Float64\n",
    "    num_humans::Float64\n",
    "    goals::Array{goal_location}\n",
    "    humans::Array{human_state}\n",
    "    obstacles::Array{obstacle_location}\n",
    "    cart::cart_state\n",
    "end"
   ]
  },
  {
   "cell_type": "code",
   "execution_count": 160,
   "metadata": {},
   "outputs": [],
   "source": [
    "function Base.show(io::IO, mime::MIME, env::experiment_environment)\n",
    "    \n",
    "    #Plot Boundaries\n",
    "    p = plot([0.0],[0.0],legend=false,grid=false)\n",
    "    plot!([env.length], [env.breadth],legend=false)\n",
    "    \n",
    "    #Plot Humans\n",
    "    for i in 1: length(env.humans)\n",
    "        scatter!([env.humans[i].x], [env.humans[i].y],color=\"red\",msize=plot_size/env.length)\n",
    "    end\n",
    "    \n",
    "    #Plot Obstacles\n",
    "    for i in 1: length(env.obstacles)\n",
    "        scatter!([env.obstacles[i].x], [env.obstacles[i].y],color=\"black\",shape=:circle,msize=plot_size*env.obstacles[i].r/env.length)\n",
    "    end\n",
    "    \n",
    "    #Plot Golfcart\n",
    "    scatter!([env.cart.x], [env.cart.y], shape=:sq, color=\"blue\", msize= plot_size*cart_size/env.length)\n",
    "    \n",
    "    plot!(size=(plot_size,plot_size))\n",
    "    show(io, mime, p)\n",
    "end"
   ]
  },
  {
   "cell_type": "code",
   "execution_count": 165,
   "metadata": {},
   "outputs": [
    {
     "data": {
      "text/plain": [
       "cart_state(100.0, 50.0, 0.0, 1.0, goal_location(0.0, 50.0, 5.0))"
      ]
     },
     "execution_count": 165,
     "metadata": {},
     "output_type": "execute_result"
    }
   ],
   "source": [
    "g1 = goal_location(0,0,1)\n",
    "g2 = goal_location(0,100,2)\n",
    "g3 = goal_location(0,30,3)\n",
    "g4 = goal_location(14,1,4)\n",
    "cart_goal = goal_location(0,50,5)\n",
    "all_goals_list = [g1,g2,g3,g4]\n",
    "\n",
    "h1 = human_state(40,30,0.5,g3)\n",
    "h2 = human_state(3,22,0.5,g4)\n",
    "h3 = human_state(71,22,0.5,g2)\n",
    "h4 = human_state(12,84,0.5,g1)\n",
    "human_state_start_list = [h1,h2,h3,h4]\n",
    "\n",
    "o1 = obstacle_location(50,50,3)\n",
    "o2 = obstacle_location(33,69,5)\n",
    "o3 = obstacle_location(73,79,3)\n",
    "all_obstacle_list = [o1,o2,o3]\n",
    "\n",
    "golfcart = cart_state(100,50,0,1,cart_goal)\n"
   ]
  },
  {
   "cell_type": "code",
   "execution_count": 166,
   "metadata": {},
   "outputs": [
    {
     "data": {
      "image/png": "[encoded data removed]",
      "image/svg+xml": [
       "<?xml version=\"1.0\" encoding=\"utf-8\"?>\n",
       "<svg xmlns=\"http://www.w3.org/2000/svg\" xmlns:xlink=\"http://www.w3.org/1999/xlink\" width=\"800\" height=\"800\" viewBox=\"0 0 3200 3200\">\n",
       "<defs>\n",
       "  <clipPath id=\"clip880\">\n",
       "    <rect x=\"0\" y=\"0\" width=\"3200\" height=\"3200\"/>\n",
       "  </clipPath>\n",
       "</defs>\n",
       "<path clip-path=\"url(#clip880)\" d=\"\n",
       "M0 3200 L3200 3200 L3200 0 L0 0  Z\n",
       "  \" fill=\"#ffffff\" fill-rule=\"evenodd\" fill-opacity=\"1\"/>\n",
       "<defs>\n",
       "  <clipPath id=\"clip881\">\n",
       "    <rect x=\"640\" y=\"320\" width=\"2241\" height=\"2241\"/>\n",
       "  </clipPath>\n",
       "</defs>\n",
       "<path clip-path=\"url(#clip880)\" d=\"\n",
       "M169.598 3053.17 L3152.76 3053.17 L3152.76 47.2441 L169.598 47.2441  Z\n",
       "  \" fill=\"#ffffff\" fill-rule=\"evenodd\" fill-opacity=\"1\"/>\n",
       "<defs>\n",
       "  <clipPath id=\"clip882\">\n",
       "    <rect x=\"169\" y=\"47\" width=\"2984\" height=\"3007\"/>\n",
       "  </clipPath>\n",
       "</defs>\n",
       "<polyline clip-path=\"url(#clip880)\" style=\"stroke:#000000; stroke-width:4; stroke-opacity:1; fill:none\" points=\"\n",
       "  169.598,3053.17 3152.76,3053.17 \n",
       "  \"/>\n",
       "<polyline clip-path=\"url(#clip880)\" style=\"stroke:#000000; stroke-width:4; stroke-opacity:1; fill:none\" points=\"\n",
       "  169.598,3053.17 169.598,47.2441 \n",
       "  \"/>\n",
       "<polyline clip-path=\"url(#clip880)\" style=\"stroke:#000000; stroke-width:4; stroke-opacity:1; fill:none\" points=\"\n",
       "  254.027,3053.17 254.027,3017.1 \n",
       "  \"/>\n",
       "<polyline clip-path=\"url(#clip880)\" style=\"stroke:#000000; stroke-width:4; stroke-opacity:1; fill:none\" points=\"\n",
       "  957.602,3053.17 957.602,3017.1 \n",
       "  \"/>\n",
       "<polyline clip-path=\"url(#clip880)\" style=\"stroke:#000000; stroke-width:4; stroke-opacity:1; fill:none\" points=\"\n",
       "  1661.18,3053.17 1661.18,3017.1 \n",
       "  \"/>\n",
       "<polyline clip-path=\"url(#clip880)\" style=\"stroke:#000000; stroke-width:4; stroke-opacity:1; fill:none\" points=\"\n",
       "  2364.75,3053.17 2364.75,3017.1 \n",
       "  \"/>\n",
       "<polyline clip-path=\"url(#clip880)\" style=\"stroke:#000000; stroke-width:4; stroke-opacity:1; fill:none\" points=\"\n",
       "  3068.33,3053.17 3068.33,3017.1 \n",
       "  \"/>\n",
       "<polyline clip-path=\"url(#clip880)\" style=\"stroke:#000000; stroke-width:4; stroke-opacity:1; fill:none\" points=\"\n",
       "  169.598,2968.09 205.396,2968.09 \n",
       "  \"/>\n",
       "<polyline clip-path=\"url(#clip880)\" style=\"stroke:#000000; stroke-width:4; stroke-opacity:1; fill:none\" points=\"\n",
       "  169.598,2259.15 205.396,2259.15 \n",
       "  \"/>\n",
       "<polyline clip-path=\"url(#clip880)\" style=\"stroke:#000000; stroke-width:4; stroke-opacity:1; fill:none\" points=\"\n",
       "  169.598,1550.21 205.396,1550.21 \n",
       "  \"/>\n",
       "<polyline clip-path=\"url(#clip880)\" style=\"stroke:#000000; stroke-width:4; stroke-opacity:1; fill:none\" points=\"\n",
       "  169.598,841.262 205.396,841.262 \n",
       "  \"/>\n",
       "<polyline clip-path=\"url(#clip880)\" style=\"stroke:#000000; stroke-width:4; stroke-opacity:1; fill:none\" points=\"\n",
       "  169.598,132.317 205.396,132.317 \n",
       "  \"/>\n",
       "<path clip-path=\"url(#clip880)\" d=\"M 0 0 M254.027 3079.16 Q250.416 3079.16 248.587 3082.72 Q246.782 3086.27 246.782 3093.39 Q246.782 3100.5 248.587 3104.07 Q250.416 3107.61 254.027 3107.61 Q257.661 3107.61 259.467 3104.07 Q261.296 3100.5 261.296 3093.39 Q261.296 3086.27 259.467 3082.72 Q257.661 3079.16 254.027 3079.16 M254.027 3075.45 Q259.837 3075.45 262.893 3080.06 Q265.972 3084.64 265.972 3093.39 Q265.972 3102.12 262.893 3106.73 Q259.837 3111.31 254.027 3111.31 Q248.217 3111.31 245.138 3106.73 Q242.083 3102.12 242.083 3093.39 Q242.083 3084.64 245.138 3080.06 Q248.217 3075.45 254.027 3075.45 Z\" fill=\"#000000\" fill-rule=\"evenodd\" fill-opacity=\"1\" /><path clip-path=\"url(#clip880)\" d=\"M 0 0 M939.246 3106.7 L955.565 3106.7 L955.565 3110.64 L933.621 3110.64 L933.621 3106.7 Q936.283 3103.95 940.866 3099.32 Q945.473 3094.67 946.653 3093.33 Q948.898 3090.8 949.778 3089.07 Q950.681 3087.31 950.681 3085.62 Q950.681 3082.86 948.736 3081.13 Q946.815 3079.39 943.713 3079.39 Q941.514 3079.39 939.061 3080.15 Q936.63 3080.92 933.852 3082.47 L933.852 3077.75 Q936.676 3076.61 939.13 3076.03 Q941.584 3075.45 943.621 3075.45 Q948.991 3075.45 952.185 3078.14 Q955.38 3080.83 955.38 3085.32 Q955.38 3087.45 954.57 3089.37 Q953.783 3091.26 951.676 3093.86 Q951.098 3094.53 947.996 3097.75 Q944.894 3100.94 939.246 3106.7 Z\" fill=\"#000000\" fill-rule=\"evenodd\" fill-opacity=\"1\" /><path clip-path=\"url(#clip880)\" d=\"M 0 0 M960.681 3076.08 L979.037 3076.08 L979.037 3080.02 L964.963 3080.02 L964.963 3088.49 Q965.982 3088.14 967 3087.98 Q968.019 3087.79 969.037 3087.79 Q974.824 3087.79 978.204 3090.96 Q981.583 3094.14 981.583 3099.55 Q981.583 3105.13 978.111 3108.23 Q974.639 3111.31 968.32 3111.31 Q966.144 3111.31 963.875 3110.94 Q961.63 3110.57 959.222 3109.83 L959.222 3105.13 Q961.306 3106.26 963.528 3106.82 Q965.75 3107.38 968.227 3107.38 Q972.232 3107.38 974.57 3105.27 Q976.908 3103.16 976.908 3099.55 Q976.908 3095.94 974.57 3093.83 Q972.232 3091.73 968.227 3091.73 Q966.352 3091.73 964.477 3092.14 Q962.625 3092.56 960.681 3093.44 L960.681 3076.08 Z\" fill=\"#000000\" fill-rule=\"evenodd\" fill-opacity=\"1\" /><path clip-path=\"url(#clip880)\" d=\"M 0 0 M1637.95 3076.08 L1656.3 3076.08 L1656.3 3080.02 L1642.23 3080.02 L1642.23 3088.49 Q1643.25 3088.14 1644.27 3087.98 Q1645.29 3087.79 1646.3 3087.79 Q1652.09 3087.79 1655.47 3090.96 Q1658.85 3094.14 1658.85 3099.55 Q1658.85 3105.13 1655.38 3108.23 Q1651.91 3111.31 1645.59 3111.31 Q1643.41 3111.31 1641.14 3110.94 Q1638.9 3110.57 1636.49 3109.83 L1636.49 3105.13 Q1638.57 3106.26 1640.8 3106.82 Q1643.02 3107.38 1645.49 3107.38 Q1649.5 3107.38 1651.84 3105.27 Q1654.17 3103.16 1654.17 3099.55 Q1654.17 3095.94 1651.84 3093.83 Q1649.5 3091.73 1645.49 3091.73 Q1643.62 3091.73 1641.74 3092.14 Q1639.89 3092.56 1637.95 3093.44 L1637.95 3076.08 Z\" fill=\"#000000\" fill-rule=\"evenodd\" fill-opacity=\"1\" /><path clip-path=\"url(#clip880)\" d=\"M 0 0 M1673.92 3079.16 Q1670.31 3079.16 1668.48 3082.72 Q1666.67 3086.27 1666.67 3093.39 Q1666.67 3100.5 1668.48 3104.07 Q1670.31 3107.61 1673.92 3107.61 Q1677.55 3107.61 1679.36 3104.07 Q1681.19 3100.5 1681.19 3093.39 Q1681.19 3086.27 1679.36 3082.72 Q1677.55 3079.16 1673.92 3079.16 M1673.92 3075.45 Q1679.73 3075.45 1682.79 3080.06 Q1685.86 3084.64 1685.86 3093.39 Q1685.86 3102.12 1682.79 3106.73 Q1679.73 3111.31 1673.92 3111.31 Q1668.11 3111.31 1665.03 3106.73 Q1661.98 3102.12 1661.98 3093.39 Q1661.98 3084.64 1665.03 3080.06 Q1668.11 3075.45 1673.92 3075.45 Z\" fill=\"#000000\" fill-rule=\"evenodd\" fill-opacity=\"1\" /><path clip-path=\"url(#clip880)\" d=\"M 0 0 M2340.63 3076.08 L2362.85 3076.08 L2362.85 3078.07 L2350.31 3110.64 L2345.42 3110.64 L2357.23 3080.02 L2340.63 3080.02 L2340.63 3076.08 Z\" fill=\"#000000\" fill-rule=\"evenodd\" fill-opacity=\"1\" /><path clip-path=\"url(#clip880)\" d=\"M 0 0 M2367.97 3076.08 L2386.33 3076.08 L2386.33 3080.02 L2372.25 3080.02 L2372.25 3088.49 Q2373.27 3088.14 2374.29 3087.98 Q2375.31 3087.79 2376.33 3087.79 Q2382.11 3087.79 2385.49 3090.96 Q2388.87 3094.14 2388.87 3099.55 Q2388.87 3105.13 2385.4 3108.23 Q2381.93 3111.31 2375.61 3111.31 Q2373.43 3111.31 2371.16 3110.94 Q2368.92 3110.57 2366.51 3109.83 L2366.51 3105.13 Q2368.59 3106.26 2370.82 3106.82 Q2373.04 3107.38 2375.52 3107.38 Q2379.52 3107.38 2381.86 3105.27 Q2384.2 3103.16 2384.2 3099.55 Q2384.2 3095.94 2381.86 3093.83 Q2379.52 3091.73 2375.52 3091.73 Q2373.64 3091.73 2371.77 3092.14 Q2369.91 3092.56 2367.97 3093.44 L2367.97 3076.08 Z\" fill=\"#000000\" fill-rule=\"evenodd\" fill-opacity=\"1\" /><path clip-path=\"url(#clip880)\" d=\"M 0 0 M3031.7 3106.7 L3039.33 3106.7 L3039.33 3080.34 L3031.02 3082.01 L3031.02 3077.75 L3039.29 3076.08 L3043.96 3076.08 L3043.96 3106.7 L3051.6 3106.7 L3051.6 3110.64 L3031.7 3110.64 L3031.7 3106.7 Z\" fill=\"#000000\" fill-rule=\"evenodd\" fill-opacity=\"1\" /><path clip-path=\"url(#clip880)\" d=\"M 0 0 M3066.67 3079.16 Q3063.06 3079.16 3061.23 3082.72 Q3059.43 3086.27 3059.43 3093.39 Q3059.43 3100.5 3061.23 3104.07 Q3063.06 3107.61 3066.67 3107.61 Q3070.31 3107.61 3072.11 3104.07 Q3073.94 3100.5 3073.94 3093.39 Q3073.94 3086.27 3072.11 3082.72 Q3070.31 3079.16 3066.67 3079.16 M3066.67 3075.45 Q3072.48 3075.45 3075.54 3080.06 Q3078.62 3084.64 3078.62 3093.39 Q3078.62 3102.12 3075.54 3106.73 Q3072.48 3111.31 3066.67 3111.31 Q3060.86 3111.31 3057.78 3106.73 Q3054.73 3102.12 3054.73 3093.39 Q3054.73 3084.64 3057.78 3080.06 Q3060.86 3075.45 3066.67 3075.45 Z\" fill=\"#000000\" fill-rule=\"evenodd\" fill-opacity=\"1\" /><path clip-path=\"url(#clip880)\" d=\"M 0 0 M3093.69 3079.16 Q3090.07 3079.16 3088.25 3082.72 Q3086.44 3086.27 3086.44 3093.39 Q3086.44 3100.5 3088.25 3104.07 Q3090.07 3107.61 3093.69 3107.61 Q3097.32 3107.61 3099.13 3104.07 Q3100.95 3100.5 3100.95 3093.39 Q3100.95 3086.27 3099.13 3082.72 Q3097.32 3079.16 3093.69 3079.16 M3093.69 3075.45 Q3099.5 3075.45 3102.55 3080.06 Q3105.63 3084.64 3105.63 3093.39 Q3105.63 3102.12 3102.55 3106.73 Q3099.5 3111.31 3093.69 3111.31 Q3087.88 3111.31 3084.8 3106.73 Q3081.74 3102.12 3081.74 3093.39 Q3081.74 3084.64 3084.8 3080.06 Q3087.88 3075.45 3093.69 3075.45 Z\" fill=\"#000000\" fill-rule=\"evenodd\" fill-opacity=\"1\" /><path clip-path=\"url(#clip880)\" d=\"M 0 0 M125.654 2953.89 Q122.043 2953.89 120.214 2957.46 Q118.408 2961 118.408 2968.13 Q118.408 2975.24 120.214 2978.8 Q122.043 2982.34 125.654 2982.34 Q129.288 2982.34 131.094 2978.8 Q132.922 2975.24 132.922 2968.13 Q132.922 2961 131.094 2957.46 Q129.288 2953.89 125.654 2953.89 M125.654 2950.19 Q131.464 2950.19 134.52 2954.8 Q137.598 2959.38 137.598 2968.13 Q137.598 2976.86 134.52 2981.46 Q131.464 2986.05 125.654 2986.05 Q119.844 2986.05 116.765 2981.46 Q113.709 2976.86 113.709 2968.13 Q113.709 2959.38 116.765 2954.8 Q119.844 2950.19 125.654 2950.19 Z\" fill=\"#000000\" fill-rule=\"evenodd\" fill-opacity=\"1\" /><path clip-path=\"url(#clip880)\" d=\"M 0 0 M95.2605 2272.5 L111.58 2272.5 L111.58 2276.43 L89.6355 2276.43 L89.6355 2272.5 Q92.2975 2269.74 96.8808 2265.11 Q101.487 2260.46 102.668 2259.12 Q104.913 2256.59 105.793 2254.86 Q106.696 2253.1 106.696 2251.41 Q106.696 2248.65 104.751 2246.92 Q102.83 2245.18 99.728 2245.18 Q97.529 2245.18 95.0753 2245.94 Q92.6447 2246.71 89.867 2248.26 L89.867 2243.54 Q92.691 2242.4 95.1447 2241.82 Q97.5984 2241.25 99.6354 2241.25 Q105.006 2241.25 108.2 2243.93 Q111.395 2246.62 111.395 2251.11 Q111.395 2253.24 110.584 2255.16 Q109.797 2257.06 107.691 2259.65 Q107.112 2260.32 104.01 2263.54 Q100.909 2266.73 95.2605 2272.5 Z\" fill=\"#000000\" fill-rule=\"evenodd\" fill-opacity=\"1\" /><path clip-path=\"url(#clip880)\" d=\"M 0 0 M116.696 2241.87 L135.052 2241.87 L135.052 2245.81 L120.978 2245.81 L120.978 2254.28 Q121.996 2253.93 123.015 2253.77 Q124.033 2253.58 125.052 2253.58 Q130.839 2253.58 134.219 2256.75 Q137.598 2259.93 137.598 2265.34 Q137.598 2270.92 134.126 2274.02 Q130.654 2277.1 124.334 2277.1 Q122.158 2277.1 119.89 2276.73 Q117.645 2276.36 115.237 2275.62 L115.237 2270.92 Q117.321 2272.06 119.543 2272.61 Q121.765 2273.17 124.242 2273.17 Q128.246 2273.17 130.584 2271.06 Q132.922 2268.95 132.922 2265.34 Q132.922 2261.73 130.584 2259.62 Q128.246 2257.52 124.242 2257.52 Q122.367 2257.52 120.492 2257.94 Q118.64 2258.35 116.696 2259.23 L116.696 2241.87 Z\" fill=\"#000000\" fill-rule=\"evenodd\" fill-opacity=\"1\" /><path clip-path=\"url(#clip880)\" d=\"M 0 0 M89.6818 1532.93 L108.038 1532.93 L108.038 1536.86 L93.9642 1536.86 L93.9642 1545.33 Q94.9827 1544.99 96.0012 1544.82 Q97.0197 1544.64 98.0382 1544.64 Q103.825 1544.64 107.205 1547.81 Q110.584 1550.98 110.584 1556.4 Q110.584 1561.98 107.112 1565.08 Q103.64 1568.16 97.3206 1568.16 Q95.1447 1568.16 92.8762 1567.79 Q90.6309 1567.42 88.2235 1566.68 L88.2235 1561.98 Q90.3068 1563.11 92.529 1563.67 Q94.7512 1564.22 97.2281 1564.22 Q101.233 1564.22 103.571 1562.12 Q105.909 1560.01 105.909 1556.4 Q105.909 1552.79 103.571 1550.68 Q101.233 1548.57 97.2281 1548.57 Q95.3531 1548.57 93.4781 1548.99 Q91.6262 1549.41 89.6818 1550.29 L89.6818 1532.93 Z\" fill=\"#000000\" fill-rule=\"evenodd\" fill-opacity=\"1\" /><path clip-path=\"url(#clip880)\" d=\"M 0 0 M125.654 1536 Q122.043 1536 120.214 1539.57 Q118.408 1543.11 118.408 1550.24 Q118.408 1557.35 120.214 1560.91 Q122.043 1564.45 125.654 1564.45 Q129.288 1564.45 131.094 1560.91 Q132.922 1557.35 132.922 1550.24 Q132.922 1543.11 131.094 1539.57 Q129.288 1536 125.654 1536 M125.654 1532.3 Q131.464 1532.3 134.52 1536.91 Q137.598 1541.49 137.598 1550.24 Q137.598 1558.97 134.52 1563.57 Q131.464 1568.16 125.654 1568.16 Q119.844 1568.16 116.765 1563.57 Q113.709 1558.97 113.709 1550.24 Q113.709 1541.49 116.765 1536.91 Q119.844 1532.3 125.654 1532.3 Z\" fill=\"#000000\" fill-rule=\"evenodd\" fill-opacity=\"1\" /><path clip-path=\"url(#clip880)\" d=\"M 0 0 M89.3577 823.982 L111.58 823.982 L111.58 825.972 L99.0336 858.542 L94.1494 858.542 L105.955 827.917 L89.3577 827.917 L89.3577 823.982 Z\" fill=\"#000000\" fill-rule=\"evenodd\" fill-opacity=\"1\" /><path clip-path=\"url(#clip880)\" d=\"M 0 0 M116.696 823.982 L135.052 823.982 L135.052 827.917 L120.978 827.917 L120.978 836.389 Q121.996 836.042 123.015 835.88 Q124.033 835.695 125.052 835.695 Q130.839 835.695 134.219 838.866 Q137.598 842.037 137.598 847.454 Q137.598 853.032 134.126 856.134 Q130.654 859.213 124.334 859.213 Q122.158 859.213 119.89 858.843 Q117.645 858.472 115.237 857.732 L115.237 853.032 Q117.321 854.167 119.543 854.722 Q121.765 855.278 124.242 855.278 Q128.246 855.278 130.584 853.171 Q132.922 851.065 132.922 847.454 Q132.922 843.843 130.584 841.736 Q128.246 839.63 124.242 839.63 Q122.367 839.63 120.492 840.046 Q118.64 840.463 116.696 841.343 L116.696 823.982 Z\" fill=\"#000000\" fill-rule=\"evenodd\" fill-opacity=\"1\" /><path clip-path=\"url(#clip880)\" d=\"M 0 0 M63.6634 145.662 L71.3023 145.662 L71.3023 119.297 L62.9921 120.963 L62.9921 116.704 L71.256 115.037 L75.9319 115.037 L75.9319 145.662 L83.5707 145.662 L83.5707 149.597 L63.6634 149.597 L63.6634 145.662 Z\" fill=\"#000000\" fill-rule=\"evenodd\" fill-opacity=\"1\" /><path clip-path=\"url(#clip880)\" d=\"M 0 0 M98.6401 118.116 Q95.029 118.116 93.2003 121.681 Q91.3948 125.223 91.3948 132.352 Q91.3948 139.459 93.2003 143.023 Q95.029 146.565 98.6401 146.565 Q102.274 146.565 104.08 143.023 Q105.909 139.459 105.909 132.352 Q105.909 125.223 104.08 121.681 Q102.274 118.116 98.6401 118.116 M98.6401 114.412 Q104.45 114.412 107.506 119.019 Q110.584 123.602 110.584 132.352 Q110.584 141.079 107.506 145.685 Q104.45 150.269 98.6401 150.269 Q92.8299 150.269 89.7512 145.685 Q86.6957 141.079 86.6957 132.352 Q86.6957 123.602 89.7512 119.019 Q92.8299 114.412 98.6401 114.412 Z\" fill=\"#000000\" fill-rule=\"evenodd\" fill-opacity=\"1\" /><path clip-path=\"url(#clip880)\" d=\"M 0 0 M125.654 118.116 Q122.043 118.116 120.214 121.681 Q118.408 125.223 118.408 132.352 Q118.408 139.459 120.214 143.023 Q122.043 146.565 125.654 146.565 Q129.288 146.565 131.094 143.023 Q132.922 139.459 132.922 132.352 Q132.922 125.223 131.094 121.681 Q129.288 118.116 125.654 118.116 M125.654 114.412 Q131.464 114.412 134.52 119.019 Q137.598 123.602 137.598 132.352 Q137.598 141.079 134.52 145.685 Q131.464 150.269 125.654 150.269 Q119.844 150.269 116.765 145.685 Q113.709 141.079 113.709 132.352 Q113.709 123.602 116.765 119.019 Q119.844 114.412 125.654 114.412 Z\" fill=\"#000000\" fill-rule=\"evenodd\" fill-opacity=\"1\" /><circle clip-path=\"url(#clip882)\" cx=\"1379.75\" cy=\"2117.36\" r=\"28\" fill=\"#ff0000\" fill-rule=\"evenodd\" fill-opacity=\"1\" stroke=\"#000000\" stroke-opacity=\"1\" stroke-width=\"6.4\"/>\n",
       "<circle clip-path=\"url(#clip882)\" cx=\"338.456\" cy=\"2344.22\" r=\"28\" fill=\"#ff0000\" fill-rule=\"evenodd\" fill-opacity=\"1\" stroke=\"#000000\" stroke-opacity=\"1\" stroke-width=\"6.4\"/>\n",
       "<circle clip-path=\"url(#clip882)\" cx=\"2252.18\" cy=\"2344.22\" r=\"28\" fill=\"#ff0000\" fill-rule=\"evenodd\" fill-opacity=\"1\" stroke=\"#000000\" stroke-opacity=\"1\" stroke-width=\"6.4\"/>\n",
       "<circle clip-path=\"url(#clip882)\" cx=\"591.743\" cy=\"586.042\" r=\"28\" fill=\"#ff0000\" fill-rule=\"evenodd\" fill-opacity=\"1\" stroke=\"#000000\" stroke-opacity=\"1\" stroke-width=\"6.4\"/>\n",
       "<circle clip-path=\"url(#clip882)\" cx=\"1661.18\" cy=\"1550.21\" r=\"86\" fill=\"#000000\" fill-rule=\"evenodd\" fill-opacity=\"1\" stroke=\"none\"/>\n",
       "<circle clip-path=\"url(#clip882)\" cx=\"1182.75\" cy=\"1011.41\" r=\"144\" fill=\"#000000\" fill-rule=\"evenodd\" fill-opacity=\"1\" stroke=\"none\"/>\n",
       "<circle clip-path=\"url(#clip882)\" cx=\"2308.47\" cy=\"727.831\" r=\"86\" fill=\"#000000\" fill-rule=\"evenodd\" fill-opacity=\"1\" stroke=\"none\"/>\n",
       "<path clip-path=\"url(#clip882)\" d=\"M3036.33 1518.21 L3036.33 1582.21 L3100.33 1582.21 L3100.33 1518.21 L3036.33 1518.21 Z\" fill=\"#0000ff\" fill-rule=\"evenodd\" fill-opacity=\"1\" stroke=\"#000000\" stroke-opacity=\"1\" stroke-width=\"6.4\"/>\n",
       "</svg>\n"
      ]
     },
     "execution_count": 166,
     "metadata": {},
     "output_type": "execute_result"
    }
   ],
   "source": [
    "env = experiment_environment(100,100,4,all_goals_list,human_state_start_list,all_obstacle_list,golfcart)"
   ]
  },
  {
   "cell_type": "code",
   "execution_count": 169,
   "metadata": {},
   "outputs": [
    {
     "data": {
      "text/plain": [
       "85"
      ]
     },
     "execution_count": 169,
     "metadata": {},
     "output_type": "execute_result"
    }
   ],
   "source": [
    "env.humans[2].x = 85"
   ]
  },
  {
   "cell_type": "code",
   "execution_count": 170,
   "metadata": {},
   "outputs": [
    {
     "data": {
      "image/png": "[encoded data removed]",
      "image/svg+xml": [
       "<?xml version=\"1.0\" encoding=\"utf-8\"?>\n",
       "<svg xmlns=\"http://www.w3.org/2000/svg\" xmlns:xlink=\"http://www.w3.org/1999/xlink\" width=\"800\" height=\"800\" viewBox=\"0 0 3200 3200\">\n",
       "<defs>\n",
       "  <clipPath id=\"clip940\">\n",
       "    <rect x=\"0\" y=\"0\" width=\"3200\" height=\"3200\"/>\n",
       "  </clipPath>\n",
       "</defs>\n",
       "<path clip-path=\"url(#clip940)\" d=\"\n",
       "M0 3200 L3200 3200 L3200 0 L0 0  Z\n",
       "  \" fill=\"#ffffff\" fill-rule=\"evenodd\" fill-opacity=\"1\"/>\n",
       "<defs>\n",
       "  <clipPath id=\"clip941\">\n",
       "    <rect x=\"640\" y=\"320\" width=\"2241\" height=\"2241\"/>\n",
       "  </clipPath>\n",
       "</defs>\n",
       "<path clip-path=\"url(#clip940)\" d=\"\n",
       "M169.598 3053.17 L3152.76 3053.17 L3152.76 47.2441 L169.598 47.2441  Z\n",
       "  \" fill=\"#ffffff\" fill-rule=\"evenodd\" fill-opacity=\"1\"/>\n",
       "<defs>\n",
       "  <clipPath id=\"clip942\">\n",
       "    <rect x=\"169\" y=\"47\" width=\"2984\" height=\"3007\"/>\n",
       "  </clipPath>\n",
       "</defs>\n",
       "<polyline clip-path=\"url(#clip940)\" style=\"stroke:#000000; stroke-width:4; stroke-opacity:1; fill:none\" points=\"\n",
       "  169.598,3053.17 3152.76,3053.17 \n",
       "  \"/>\n",
       "<polyline clip-path=\"url(#clip940)\" style=\"stroke:#000000; stroke-width:4; stroke-opacity:1; fill:none\" points=\"\n",
       "  169.598,3053.17 169.598,47.2441 \n",
       "  \"/>\n",
       "<polyline clip-path=\"url(#clip940)\" style=\"stroke:#000000; stroke-width:4; stroke-opacity:1; fill:none\" points=\"\n",
       "  254.027,3053.17 254.027,3017.1 \n",
       "  \"/>\n",
       "<polyline clip-path=\"url(#clip940)\" style=\"stroke:#000000; stroke-width:4; stroke-opacity:1; fill:none\" points=\"\n",
       "  957.602,3053.17 957.602,3017.1 \n",
       "  \"/>\n",
       "<polyline clip-path=\"url(#clip940)\" style=\"stroke:#000000; stroke-width:4; stroke-opacity:1; fill:none\" points=\"\n",
       "  1661.18,3053.17 1661.18,3017.1 \n",
       "  \"/>\n",
       "<polyline clip-path=\"url(#clip940)\" style=\"stroke:#000000; stroke-width:4; stroke-opacity:1; fill:none\" points=\"\n",
       "  2364.75,3053.17 2364.75,3017.1 \n",
       "  \"/>\n",
       "<polyline clip-path=\"url(#clip940)\" style=\"stroke:#000000; stroke-width:4; stroke-opacity:1; fill:none\" points=\"\n",
       "  3068.33,3053.17 3068.33,3017.1 \n",
       "  \"/>\n",
       "<polyline clip-path=\"url(#clip940)\" style=\"stroke:#000000; stroke-width:4; stroke-opacity:1; fill:none\" points=\"\n",
       "  169.598,2968.09 205.396,2968.09 \n",
       "  \"/>\n",
       "<polyline clip-path=\"url(#clip940)\" style=\"stroke:#000000; stroke-width:4; stroke-opacity:1; fill:none\" points=\"\n",
       "  169.598,2259.15 205.396,2259.15 \n",
       "  \"/>\n",
       "<polyline clip-path=\"url(#clip940)\" style=\"stroke:#000000; stroke-width:4; stroke-opacity:1; fill:none\" points=\"\n",
       "  169.598,1550.21 205.396,1550.21 \n",
       "  \"/>\n",
       "<polyline clip-path=\"url(#clip940)\" style=\"stroke:#000000; stroke-width:4; stroke-opacity:1; fill:none\" points=\"\n",
       "  169.598,841.262 205.396,841.262 \n",
       "  \"/>\n",
       "<polyline clip-path=\"url(#clip940)\" style=\"stroke:#000000; stroke-width:4; stroke-opacity:1; fill:none\" points=\"\n",
       "  169.598,132.317 205.396,132.317 \n",
       "  \"/>\n",
       "<path clip-path=\"url(#clip940)\" d=\"M 0 0 M254.027 3079.16 Q250.416 3079.16 248.587 3082.72 Q246.782 3086.27 246.782 3093.39 Q246.782 3100.5 248.587 3104.07 Q250.416 3107.61 254.027 3107.61 Q257.661 3107.61 259.467 3104.07 Q261.296 3100.5 261.296 3093.39 Q261.296 3086.27 259.467 3082.72 Q257.661 3079.16 254.027 3079.16 M254.027 3075.45 Q259.837 3075.45 262.893 3080.06 Q265.972 3084.64 265.972 3093.39 Q265.972 3102.12 262.893 3106.73 Q259.837 3111.31 254.027 3111.31 Q248.217 3111.31 245.138 3106.73 Q242.083 3102.12 242.083 3093.39 Q242.083 3084.64 245.138 3080.06 Q248.217 3075.45 254.027 3075.45 Z\" fill=\"#000000\" fill-rule=\"evenodd\" fill-opacity=\"1\" /><path clip-path=\"url(#clip940)\" d=\"M 0 0 M939.246 3106.7 L955.565 3106.7 L955.565 3110.64 L933.621 3110.64 L933.621 3106.7 Q936.283 3103.95 940.866 3099.32 Q945.473 3094.67 946.653 3093.33 Q948.898 3090.8 949.778 3089.07 Q950.681 3087.31 950.681 3085.62 Q950.681 3082.86 948.736 3081.13 Q946.815 3079.39 943.713 3079.39 Q941.514 3079.39 939.061 3080.15 Q936.63 3080.92 933.852 3082.47 L933.852 3077.75 Q936.676 3076.61 939.13 3076.03 Q941.584 3075.45 943.621 3075.45 Q948.991 3075.45 952.185 3078.14 Q955.38 3080.83 955.38 3085.32 Q955.38 3087.45 954.57 3089.37 Q953.783 3091.26 951.676 3093.86 Q951.098 3094.53 947.996 3097.75 Q944.894 3100.94 939.246 3106.7 Z\" fill=\"#000000\" fill-rule=\"evenodd\" fill-opacity=\"1\" /><path clip-path=\"url(#clip940)\" d=\"M 0 0 M960.681 3076.08 L979.037 3076.08 L979.037 3080.02 L964.963 3080.02 L964.963 3088.49 Q965.982 3088.14 967 3087.98 Q968.019 3087.79 969.037 3087.79 Q974.824 3087.79 978.204 3090.96 Q981.583 3094.14 981.583 3099.55 Q981.583 3105.13 978.111 3108.23 Q974.639 3111.31 968.32 3111.31 Q966.144 3111.31 963.875 3110.94 Q961.63 3110.57 959.222 3109.83 L959.222 3105.13 Q961.306 3106.26 963.528 3106.82 Q965.75 3107.38 968.227 3107.38 Q972.232 3107.38 974.57 3105.27 Q976.908 3103.16 976.908 3099.55 Q976.908 3095.94 974.57 3093.83 Q972.232 3091.73 968.227 3091.73 Q966.352 3091.73 964.477 3092.14 Q962.625 3092.56 960.681 3093.44 L960.681 3076.08 Z\" fill=\"#000000\" fill-rule=\"evenodd\" fill-opacity=\"1\" /><path clip-path=\"url(#clip940)\" d=\"M 0 0 M1637.95 3076.08 L1656.3 3076.08 L1656.3 3080.02 L1642.23 3080.02 L1642.23 3088.49 Q1643.25 3088.14 1644.27 3087.98 Q1645.29 3087.79 1646.3 3087.79 Q1652.09 3087.79 1655.47 3090.96 Q1658.85 3094.14 1658.85 3099.55 Q1658.85 3105.13 1655.38 3108.23 Q1651.91 3111.31 1645.59 3111.31 Q1643.41 3111.31 1641.14 3110.94 Q1638.9 3110.57 1636.49 3109.83 L1636.49 3105.13 Q1638.57 3106.26 1640.8 3106.82 Q1643.02 3107.38 1645.49 3107.38 Q1649.5 3107.38 1651.84 3105.27 Q1654.17 3103.16 1654.17 3099.55 Q1654.17 3095.94 1651.84 3093.83 Q1649.5 3091.73 1645.49 3091.73 Q1643.62 3091.73 1641.74 3092.14 Q1639.89 3092.56 1637.95 3093.44 L1637.95 3076.08 Z\" fill=\"#000000\" fill-rule=\"evenodd\" fill-opacity=\"1\" /><path clip-path=\"url(#clip940)\" d=\"M 0 0 M1673.92 3079.16 Q1670.31 3079.16 1668.48 3082.72 Q1666.67 3086.27 1666.67 3093.39 Q1666.67 3100.5 1668.48 3104.07 Q1670.31 3107.61 1673.92 3107.61 Q1677.55 3107.61 1679.36 3104.07 Q1681.19 3100.5 1681.19 3093.39 Q1681.19 3086.27 1679.36 3082.72 Q1677.55 3079.16 1673.92 3079.16 M1673.92 3075.45 Q1679.73 3075.45 1682.79 3080.06 Q1685.86 3084.64 1685.86 3093.39 Q1685.86 3102.12 1682.79 3106.73 Q1679.73 3111.31 1673.92 3111.31 Q1668.11 3111.31 1665.03 3106.73 Q1661.98 3102.12 1661.98 3093.39 Q1661.98 3084.64 1665.03 3080.06 Q1668.11 3075.45 1673.92 3075.45 Z\" fill=\"#000000\" fill-rule=\"evenodd\" fill-opacity=\"1\" /><path clip-path=\"url(#clip940)\" d=\"M 0 0 M2340.63 3076.08 L2362.85 3076.08 L2362.85 3078.07 L2350.31 3110.64 L2345.42 3110.64 L2357.23 3080.02 L2340.63 3080.02 L2340.63 3076.08 Z\" fill=\"#000000\" fill-rule=\"evenodd\" fill-opacity=\"1\" /><path clip-path=\"url(#clip940)\" d=\"M 0 0 M2367.97 3076.08 L2386.33 3076.08 L2386.33 3080.02 L2372.25 3080.02 L2372.25 3088.49 Q2373.27 3088.14 2374.29 3087.98 Q2375.31 3087.79 2376.33 3087.79 Q2382.11 3087.79 2385.49 3090.96 Q2388.87 3094.14 2388.87 3099.55 Q2388.87 3105.13 2385.4 3108.23 Q2381.93 3111.31 2375.61 3111.31 Q2373.43 3111.31 2371.16 3110.94 Q2368.92 3110.57 2366.51 3109.83 L2366.51 3105.13 Q2368.59 3106.26 2370.82 3106.82 Q2373.04 3107.38 2375.52 3107.38 Q2379.52 3107.38 2381.86 3105.27 Q2384.2 3103.16 2384.2 3099.55 Q2384.2 3095.94 2381.86 3093.83 Q2379.52 3091.73 2375.52 3091.73 Q2373.64 3091.73 2371.77 3092.14 Q2369.91 3092.56 2367.97 3093.44 L2367.97 3076.08 Z\" fill=\"#000000\" fill-rule=\"evenodd\" fill-opacity=\"1\" /><path clip-path=\"url(#clip940)\" d=\"M 0 0 M3031.7 3106.7 L3039.33 3106.7 L3039.33 3080.34 L3031.02 3082.01 L3031.02 3077.75 L3039.29 3076.08 L3043.96 3076.08 L3043.96 3106.7 L3051.6 3106.7 L3051.6 3110.64 L3031.7 3110.64 L3031.7 3106.7 Z\" fill=\"#000000\" fill-rule=\"evenodd\" fill-opacity=\"1\" /><path clip-path=\"url(#clip940)\" d=\"M 0 0 M3066.67 3079.16 Q3063.06 3079.16 3061.23 3082.72 Q3059.43 3086.27 3059.43 3093.39 Q3059.43 3100.5 3061.23 3104.07 Q3063.06 3107.61 3066.67 3107.61 Q3070.31 3107.61 3072.11 3104.07 Q3073.94 3100.5 3073.94 3093.39 Q3073.94 3086.27 3072.11 3082.72 Q3070.31 3079.16 3066.67 3079.16 M3066.67 3075.45 Q3072.48 3075.45 3075.54 3080.06 Q3078.62 3084.64 3078.62 3093.39 Q3078.62 3102.12 3075.54 3106.73 Q3072.48 3111.31 3066.67 3111.31 Q3060.86 3111.31 3057.78 3106.73 Q3054.73 3102.12 3054.73 3093.39 Q3054.73 3084.64 3057.78 3080.06 Q3060.86 3075.45 3066.67 3075.45 Z\" fill=\"#000000\" fill-rule=\"evenodd\" fill-opacity=\"1\" /><path clip-path=\"url(#clip940)\" d=\"M 0 0 M3093.69 3079.16 Q3090.07 3079.16 3088.25 3082.72 Q3086.44 3086.27 3086.44 3093.39 Q3086.44 3100.5 3088.25 3104.07 Q3090.07 3107.61 3093.69 3107.61 Q3097.32 3107.61 3099.13 3104.07 Q3100.95 3100.5 3100.95 3093.39 Q3100.95 3086.27 3099.13 3082.72 Q3097.32 3079.16 3093.69 3079.16 M3093.69 3075.45 Q3099.5 3075.45 3102.55 3080.06 Q3105.63 3084.64 3105.63 3093.39 Q3105.63 3102.12 3102.55 3106.73 Q3099.5 3111.31 3093.69 3111.31 Q3087.88 3111.31 3084.8 3106.73 Q3081.74 3102.12 3081.74 3093.39 Q3081.74 3084.64 3084.8 3080.06 Q3087.88 3075.45 3093.69 3075.45 Z\" fill=\"#000000\" fill-rule=\"evenodd\" fill-opacity=\"1\" /><path clip-path=\"url(#clip940)\" d=\"M 0 0 M125.654 2953.89 Q122.043 2953.89 120.214 2957.46 Q118.408 2961 118.408 2968.13 Q118.408 2975.24 120.214 2978.8 Q122.043 2982.34 125.654 2982.34 Q129.288 2982.34 131.094 2978.8 Q132.922 2975.24 132.922 2968.13 Q132.922 2961 131.094 2957.46 Q129.288 2953.89 125.654 2953.89 M125.654 2950.19 Q131.464 2950.19 134.52 2954.8 Q137.598 2959.38 137.598 2968.13 Q137.598 2976.86 134.52 2981.46 Q131.464 2986.05 125.654 2986.05 Q119.844 2986.05 116.765 2981.46 Q113.709 2976.86 113.709 2968.13 Q113.709 2959.38 116.765 2954.8 Q119.844 2950.19 125.654 2950.19 Z\" fill=\"#000000\" fill-rule=\"evenodd\" fill-opacity=\"1\" /><path clip-path=\"url(#clip940)\" d=\"M 0 0 M95.2605 2272.5 L111.58 2272.5 L111.58 2276.43 L89.6355 2276.43 L89.6355 2272.5 Q92.2975 2269.74 96.8808 2265.11 Q101.487 2260.46 102.668 2259.12 Q104.913 2256.59 105.793 2254.86 Q106.696 2253.1 106.696 2251.41 Q106.696 2248.65 104.751 2246.92 Q102.83 2245.18 99.728 2245.18 Q97.529 2245.18 95.0753 2245.94 Q92.6447 2246.71 89.867 2248.26 L89.867 2243.54 Q92.691 2242.4 95.1447 2241.82 Q97.5984 2241.25 99.6354 2241.25 Q105.006 2241.25 108.2 2243.93 Q111.395 2246.62 111.395 2251.11 Q111.395 2253.24 110.584 2255.16 Q109.797 2257.06 107.691 2259.65 Q107.112 2260.32 104.01 2263.54 Q100.909 2266.73 95.2605 2272.5 Z\" fill=\"#000000\" fill-rule=\"evenodd\" fill-opacity=\"1\" /><path clip-path=\"url(#clip940)\" d=\"M 0 0 M116.696 2241.87 L135.052 2241.87 L135.052 2245.81 L120.978 2245.81 L120.978 2254.28 Q121.996 2253.93 123.015 2253.77 Q124.033 2253.58 125.052 2253.58 Q130.839 2253.58 134.219 2256.75 Q137.598 2259.93 137.598 2265.34 Q137.598 2270.92 134.126 2274.02 Q130.654 2277.1 124.334 2277.1 Q122.158 2277.1 119.89 2276.73 Q117.645 2276.36 115.237 2275.62 L115.237 2270.92 Q117.321 2272.06 119.543 2272.61 Q121.765 2273.17 124.242 2273.17 Q128.246 2273.17 130.584 2271.06 Q132.922 2268.95 132.922 2265.34 Q132.922 2261.73 130.584 2259.62 Q128.246 2257.52 124.242 2257.52 Q122.367 2257.52 120.492 2257.94 Q118.64 2258.35 116.696 2259.23 L116.696 2241.87 Z\" fill=\"#000000\" fill-rule=\"evenodd\" fill-opacity=\"1\" /><path clip-path=\"url(#clip940)\" d=\"M 0 0 M89.6818 1532.93 L108.038 1532.93 L108.038 1536.86 L93.9642 1536.86 L93.9642 1545.33 Q94.9827 1544.99 96.0012 1544.82 Q97.0197 1544.64 98.0382 1544.64 Q103.825 1544.64 107.205 1547.81 Q110.584 1550.98 110.584 1556.4 Q110.584 1561.98 107.112 1565.08 Q103.64 1568.16 97.3206 1568.16 Q95.1447 1568.16 92.8762 1567.79 Q90.6309 1567.42 88.2235 1566.68 L88.2235 1561.98 Q90.3068 1563.11 92.529 1563.67 Q94.7512 1564.22 97.2281 1564.22 Q101.233 1564.22 103.571 1562.12 Q105.909 1560.01 105.909 1556.4 Q105.909 1552.79 103.571 1550.68 Q101.233 1548.57 97.2281 1548.57 Q95.3531 1548.57 93.4781 1548.99 Q91.6262 1549.41 89.6818 1550.29 L89.6818 1532.93 Z\" fill=\"#000000\" fill-rule=\"evenodd\" fill-opacity=\"1\" /><path clip-path=\"url(#clip940)\" d=\"M 0 0 M125.654 1536 Q122.043 1536 120.214 1539.57 Q118.408 1543.11 118.408 1550.24 Q118.408 1557.35 120.214 1560.91 Q122.043 1564.45 125.654 1564.45 Q129.288 1564.45 131.094 1560.91 Q132.922 1557.35 132.922 1550.24 Q132.922 1543.11 131.094 1539.57 Q129.288 1536 125.654 1536 M125.654 1532.3 Q131.464 1532.3 134.52 1536.91 Q137.598 1541.49 137.598 1550.24 Q137.598 1558.97 134.52 1563.57 Q131.464 1568.16 125.654 1568.16 Q119.844 1568.16 116.765 1563.57 Q113.709 1558.97 113.709 1550.24 Q113.709 1541.49 116.765 1536.91 Q119.844 1532.3 125.654 1532.3 Z\" fill=\"#000000\" fill-rule=\"evenodd\" fill-opacity=\"1\" /><path clip-path=\"url(#clip940)\" d=\"M 0 0 M89.3577 823.982 L111.58 823.982 L111.58 825.972 L99.0336 858.542 L94.1494 858.542 L105.955 827.917 L89.3577 827.917 L89.3577 823.982 Z\" fill=\"#000000\" fill-rule=\"evenodd\" fill-opacity=\"1\" /><path clip-path=\"url(#clip940)\" d=\"M 0 0 M116.696 823.982 L135.052 823.982 L135.052 827.917 L120.978 827.917 L120.978 836.389 Q121.996 836.042 123.015 835.88 Q124.033 835.695 125.052 835.695 Q130.839 835.695 134.219 838.866 Q137.598 842.037 137.598 847.454 Q137.598 853.032 134.126 856.134 Q130.654 859.213 124.334 859.213 Q122.158 859.213 119.89 858.843 Q117.645 858.472 115.237 857.732 L115.237 853.032 Q117.321 854.167 119.543 854.722 Q121.765 855.278 124.242 855.278 Q128.246 855.278 130.584 853.171 Q132.922 851.065 132.922 847.454 Q132.922 843.843 130.584 841.736 Q128.246 839.63 124.242 839.63 Q122.367 839.63 120.492 840.046 Q118.64 840.463 116.696 841.343 L116.696 823.982 Z\" fill=\"#000000\" fill-rule=\"evenodd\" fill-opacity=\"1\" /><path clip-path=\"url(#clip940)\" d=\"M 0 0 M63.6634 145.662 L71.3023 145.662 L71.3023 119.297 L62.9921 120.963 L62.9921 116.704 L71.256 115.037 L75.9319 115.037 L75.9319 145.662 L83.5707 145.662 L83.5707 149.597 L63.6634 149.597 L63.6634 145.662 Z\" fill=\"#000000\" fill-rule=\"evenodd\" fill-opacity=\"1\" /><path clip-path=\"url(#clip940)\" d=\"M 0 0 M98.6401 118.116 Q95.029 118.116 93.2003 121.681 Q91.3948 125.223 91.3948 132.352 Q91.3948 139.459 93.2003 143.023 Q95.029 146.565 98.6401 146.565 Q102.274 146.565 104.08 143.023 Q105.909 139.459 105.909 132.352 Q105.909 125.223 104.08 121.681 Q102.274 118.116 98.6401 118.116 M98.6401 114.412 Q104.45 114.412 107.506 119.019 Q110.584 123.602 110.584 132.352 Q110.584 141.079 107.506 145.685 Q104.45 150.269 98.6401 150.269 Q92.8299 150.269 89.7512 145.685 Q86.6957 141.079 86.6957 132.352 Q86.6957 123.602 89.7512 119.019 Q92.8299 114.412 98.6401 114.412 Z\" fill=\"#000000\" fill-rule=\"evenodd\" fill-opacity=\"1\" /><path clip-path=\"url(#clip940)\" d=\"M 0 0 M125.654 118.116 Q122.043 118.116 120.214 121.681 Q118.408 125.223 118.408 132.352 Q118.408 139.459 120.214 143.023 Q122.043 146.565 125.654 146.565 Q129.288 146.565 131.094 143.023 Q132.922 139.459 132.922 132.352 Q132.922 125.223 131.094 121.681 Q129.288 118.116 125.654 118.116 M125.654 114.412 Q131.464 114.412 134.52 119.019 Q137.598 123.602 137.598 132.352 Q137.598 141.079 134.52 145.685 Q131.464 150.269 125.654 150.269 Q119.844 150.269 116.765 145.685 Q113.709 141.079 113.709 132.352 Q113.709 123.602 116.765 119.019 Q119.844 114.412 125.654 114.412 Z\" fill=\"#000000\" fill-rule=\"evenodd\" fill-opacity=\"1\" /><circle clip-path=\"url(#clip942)\" cx=\"1379.75\" cy=\"2117.36\" r=\"28\" fill=\"#ff0000\" fill-rule=\"evenodd\" fill-opacity=\"1\" stroke=\"#000000\" stroke-opacity=\"1\" stroke-width=\"6.4\"/>\n",
       "<circle clip-path=\"url(#clip942)\" cx=\"2646.18\" cy=\"2344.22\" r=\"28\" fill=\"#ff0000\" fill-rule=\"evenodd\" fill-opacity=\"1\" stroke=\"#000000\" stroke-opacity=\"1\" stroke-width=\"6.4\"/>\n",
       "<circle clip-path=\"url(#clip942)\" cx=\"2252.18\" cy=\"2344.22\" r=\"28\" fill=\"#ff0000\" fill-rule=\"evenodd\" fill-opacity=\"1\" stroke=\"#000000\" stroke-opacity=\"1\" stroke-width=\"6.4\"/>\n",
       "<circle clip-path=\"url(#clip942)\" cx=\"591.743\" cy=\"586.042\" r=\"28\" fill=\"#ff0000\" fill-rule=\"evenodd\" fill-opacity=\"1\" stroke=\"#000000\" stroke-opacity=\"1\" stroke-width=\"6.4\"/>\n",
       "<circle clip-path=\"url(#clip942)\" cx=\"1661.18\" cy=\"1550.21\" r=\"86\" fill=\"#000000\" fill-rule=\"evenodd\" fill-opacity=\"1\" stroke=\"none\"/>\n",
       "<circle clip-path=\"url(#clip942)\" cx=\"1182.75\" cy=\"1011.41\" r=\"144\" fill=\"#000000\" fill-rule=\"evenodd\" fill-opacity=\"1\" stroke=\"none\"/>\n",
       "<circle clip-path=\"url(#clip942)\" cx=\"2308.47\" cy=\"727.831\" r=\"86\" fill=\"#000000\" fill-rule=\"evenodd\" fill-opacity=\"1\" stroke=\"none\"/>\n",
       "<path clip-path=\"url(#clip942)\" d=\"M1769.89 1518.21 L1769.89 1582.21 L1833.89 1582.21 L1833.89 1518.21 L1769.89 1518.21 Z\" fill=\"#0000ff\" fill-rule=\"evenodd\" fill-opacity=\"1\" stroke=\"#000000\" stroke-opacity=\"1\" stroke-width=\"6.4\"/>\n",
       "</svg>\n"
      ]
     },
     "execution_count": 170,
     "metadata": {},
     "output_type": "execute_result"
    }
   ],
   "source": [
    "env"
   ]
  },
  {
   "cell_type": "code",
   "execution_count": null,
   "metadata": {},
   "outputs": [],
   "source": []
  },
  {
   "cell_type": "code",
   "execution_count": null,
   "metadata": {},
   "outputs": [],
   "source": [
    "an_array = [0.1,0.2,0.3,0.4,0.5,0.6,0.7,0.8,0.9]"
   ]
  },
  {
   "cell_type": "code",
   "execution_count": null,
   "metadata": {},
   "outputs": [],
   "source": [
    "floor(env.num_humans)"
   ]
  },
  {
   "cell_type": "code",
   "execution_count": null,
   "metadata": {},
   "outputs": [],
   "source": [
    "length(env.humans)"
   ]
  },
  {
   "cell_type": "code",
   "execution_count": null,
   "metadata": {},
   "outputs": [],
   "source": []
  }
 ],
 "metadata": {
  "@webio": {
   "lastCommId": null,
   "lastKernelId": null
  },
  "kernelspec": {
   "display_name": "Julia 1.3.1",
   "language": "julia",
   "name": "julia-1.3"
  },
  "language_info": {
   "file_extension": ".jl",
   "mimetype": "application/julia",
   "name": "julia",
   "version": "1.3.1"
  }
 },
 "nbformat": 4,
 "nbformat_minor": 2
}
